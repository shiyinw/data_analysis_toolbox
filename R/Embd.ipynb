{
 "cells": [
  {
   "cell_type": "code",
   "execution_count": 11,
   "metadata": {
    "ExecuteTime": {
     "end_time": "2019-04-02T02:20:02.828400Z",
     "start_time": "2019-04-02T02:20:02.793Z"
    }
   },
   "outputs": [
    {
     "ename": "ERROR",
     "evalue": "Error in library(rvest): there is no package called ‘rvest’\n",
     "output_type": "error",
     "traceback": [
      "Error in library(rvest): there is no package called ‘rvest’\nTraceback:\n",
      "1. library(rvest)",
      "2. stop(txt, domain = NA)"
     ]
    }
   ],
   "source": [
    ".libPaths(c(\"/usr/local/Cellar/r/3.5.1/lib/R/library\", \"/usr/local/lib/R/3.5/site-library\"))\n",
    "library(rvest)\n",
    "library(stringr) # str_trim"
   ]
  },
  {
   "cell_type": "code",
   "execution_count": 12,
   "metadata": {
    "ExecuteTime": {
     "end_time": "2019-04-02T02:20:03.863604Z",
     "start_time": "2019-04-02T02:20:03.788Z"
    }
   },
   "outputs": [
    {
     "data": {
      "text/html": [
       "'白芷 蒺藜 蔓荆子 桑寄生 川断 牛膝 川芎 枳实 枳壳 三棱 枸杞子 菊花 元胡'"
      ],
      "text/latex": [
       "'白芷 蒺藜 蔓荆子 桑寄生 川断 牛膝 川芎 枳实 枳壳 三棱 枸杞子 菊花 元胡'"
      ],
      "text/markdown": [
       "'白芷 蒺藜 蔓荆子 桑寄生 川断 牛膝 川芎 枳实 枳壳 三棱 枸杞子 菊花 元胡'"
      ],
      "text/plain": [
       "[1] \"白芷 蒺藜 蔓荆子 桑寄生 川断 牛膝 川芎 枳实 枳壳 三棱 枸杞子 菊花 元胡\""
      ]
     },
     "metadata": {},
     "output_type": "display_data"
    },
    {
     "ename": "ERROR",
     "evalue": "Error in str_split(str_trim(cf), \" +\"): could not find function \"str_split\"\n",
     "output_type": "error",
     "traceback": [
      "Error in str_split(str_trim(cf), \" +\"): could not find function \"str_split\"\nTraceback:\n"
     ]
    }
   ],
   "source": [
    "cf<-readLines(\"./data/处方.txt\",encoding = \"UTF-8\")\n",
    "##不定长的数据不能用read.table,read.csv(用于读取矩阵形式)\n",
    "cf[2]\n",
    "\n",
    "\n",
    "dl<-str_split(str_trim(cf),\" +\")\n",
    "class(dl[[1]])\n",
    "#list[[1]]表示列表的第一项的第一个元素，譬如第一项是个向量，那么表示向量的第一个元素\n",
    "class(dl[1])\n",
    "drugs<-unique(unlist(dl))\n",
    "##unlist拼接,unique去掉重复\n",
    "\n",
    "#临时生成一个模板\n",
    "junk<-rep(0,length(drugs))\n",
    "names(junk)=drugs\n",
    "m=sapply(dl,function(x){y=junk;z=table(x);y[names(z)]=z;y})\n",
    "#统计每个元素出现的次数\n",
    "rownames(m) = drugs"
   ]
  },
  {
   "cell_type": "code",
   "execution_count": 13,
   "metadata": {
    "ExecuteTime": {
     "end_time": "2019-04-02T02:20:04.508636Z",
     "start_time": "2019-04-02T02:20:04.484Z"
    }
   },
   "outputs": [
    {
     "ename": "ERROR",
     "evalue": "Error in eval(expr, envir, enclos): object 'm' not found\n",
     "output_type": "error",
     "traceback": [
      "Error in eval(expr, envir, enclos): object 'm' not found\nTraceback:\n"
     ]
    }
   ],
   "source": [
    "m"
   ]
  },
  {
   "cell_type": "code",
   "execution_count": 14,
   "metadata": {
    "ExecuteTime": {
     "end_time": "2019-04-02T02:20:05.275834Z",
     "start_time": "2019-04-02T02:20:05.231Z"
    }
   },
   "outputs": [
    {
     "ename": "ERROR",
     "evalue": "Error in as.matrix(x): object 'm' not found\n",
     "output_type": "error",
     "traceback": [
      "Error in as.matrix(x): object 'm' not found\nTraceback:\n",
      "1. svd(m)",
      "2. as.matrix(x)"
     ]
    }
   ],
   "source": [
    "decomp=svd(m)##奇异值分解\n",
    "plot(decomp$d^2)\n",
    "embd=t(decomp$u[,1:20])\n",
    "\n",
    "colnames(embd) = rownames(m)\n",
    "cor(embd[,\"柴胡\"],embd[,\"黄芩\"])\n",
    "embd"
   ]
  },
  {
   "cell_type": "code",
   "execution_count": 15,
   "metadata": {
    "ExecuteTime": {
     "end_time": "2019-04-02T02:20:05.922258Z",
     "start_time": "2019-04-02T02:20:05.902Z"
    }
   },
   "outputs": [
    {
     "ename": "ERROR",
     "evalue": "Error in library(\"Rtsne\"): there is no package called ‘Rtsne’\n",
     "output_type": "error",
     "traceback": [
      "Error in library(\"Rtsne\"): there is no package called ‘Rtsne’\nTraceback:\n",
      "1. library(\"Rtsne\")",
      "2. stop(txt, domain = NA)"
     ]
    }
   ],
   "source": [
    "library(\"Rtsne\")"
   ]
  },
  {
   "cell_type": "code",
   "execution_count": 10,
   "metadata": {
    "ExecuteTime": {
     "end_time": "2019-04-02T02:19:42.028710Z",
     "start_time": "2019-04-02T02:18:43.379Z"
    }
   },
   "outputs": [
    {
     "name": "stderr",
     "output_type": "stream",
     "text": [
      "Installing package into ‘/usr/local/Cellar/r/3.5.1/lib/R/library’\n",
      "(as ‘lib’ is unspecified)\n",
      "also installing the dependency ‘xml2’\n",
      "\n",
      "Warning message in install.packages(\"rvest\"):\n",
      "“installation of package ‘xml2’ had non-zero exit status”Warning message in install.packages(\"rvest\"):\n",
      "“installation of package ‘rvest’ had non-zero exit status”Updating HTML index of packages in '.Library'\n",
      "Warning message in file.create(f.tg):\n",
      "“cannot create file '/usr/local/Cellar/r/3.5.1/lib/R/doc/html/packages.html', reason 'Permission denied'”Warning message in make.packages.html(.Library):\n",
      "“cannot update HTML package index”Installing package into ‘/usr/local/Cellar/r/3.5.1/lib/R/library’\n",
      "(as ‘lib’ is unspecified)\n",
      "Updating HTML index of packages in '.Library'\n",
      "Warning message in file.create(f.tg):\n",
      "“cannot create file '/usr/local/Cellar/r/3.5.1/lib/R/doc/html/packages.html', reason 'Permission denied'”Warning message in make.packages.html(.Library):\n",
      "“cannot update HTML package index”"
     ]
    }
   ],
   "source": [
    "install.packages(\"rvest\")\n",
    "install.packages(\"stringr\")"
   ]
  },
  {
   "cell_type": "code",
   "execution_count": null,
   "metadata": {},
   "outputs": [],
   "source": []
  }
 ],
 "metadata": {
  "kernelspec": {
   "display_name": "R",
   "language": "R",
   "name": "ir"
  },
  "language_info": {
   "codemirror_mode": "r",
   "file_extension": ".r",
   "mimetype": "text/x-r-source",
   "name": "R",
   "pygments_lexer": "r",
   "version": "3.5.1"
  },
  "toc": {
   "base_numbering": 1,
   "nav_menu": {},
   "number_sections": true,
   "sideBar": true,
   "skip_h1_title": false,
   "title_cell": "Table of Contents",
   "title_sidebar": "Contents",
   "toc_cell": false,
   "toc_position": {},
   "toc_section_display": true,
   "toc_window_display": false
  },
  "varInspector": {
   "cols": {
    "lenName": 16,
    "lenType": 16,
    "lenVar": 40
   },
   "kernels_config": {
    "python": {
     "delete_cmd_postfix": "",
     "delete_cmd_prefix": "del ",
     "library": "var_list.py",
     "varRefreshCmd": "print(var_dic_list())"
    },
    "r": {
     "delete_cmd_postfix": ") ",
     "delete_cmd_prefix": "rm(",
     "library": "var_list.r",
     "varRefreshCmd": "cat(var_dic_list()) "
    }
   },
   "types_to_exclude": [
    "module",
    "function",
    "builtin_function_or_method",
    "instance",
    "_Feature"
   ],
   "window_display": false
  }
 },
 "nbformat": 4,
 "nbformat_minor": 2
}
