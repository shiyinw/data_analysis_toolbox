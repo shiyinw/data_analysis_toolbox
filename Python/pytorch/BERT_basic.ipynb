{
 "cells": [
  {
   "cell_type": "markdown",
   "metadata": {},
   "source": [
    "# Overview\n",
    "\n",
    "BERT: Pre-training of Deep Bidirectional Transformers for Language Understanding: https://arxiv.org/abs/1810.04805"
   ]
  },
  {
   "cell_type": "code",
   "execution_count": 3,
   "metadata": {
    "ExecuteTime": {
     "end_time": "2019-07-19T18:09:04.383165Z",
     "start_time": "2019-07-19T18:09:04.377871Z"
    }
   },
   "outputs": [],
   "source": [
    "import subprocess"
   ]
  },
  {
   "cell_type": "markdown",
   "metadata": {},
   "source": [
    "# Embedding\n",
    "Use BERT as a preprocessing tool for sentence embedding. https://bert-as-service.readthedocs.io/en/latest/index.html"
   ]
  },
  {
   "cell_type": "raw",
   "metadata": {},
   "source": [
    "# Run this code in a terminal\n",
    "bert-serving-start -model_dir /Users/sherilynw/Documents/Sources/Code/BERT/cased_L-12_H-768_A-12 -num_worker=4"
   ]
  },
  {
   "cell_type": "raw",
   "metadata": {
    "ExecuteTime": {
     "end_time": "2019-07-19T18:09:15.090267Z",
     "start_time": "2019-07-19T18:09:14.049174Z"
    }
   },
   "source": [
    "test = subprocess.Popen([\"ping\",\"-W\",\"2\",\"-c\", \"1\", \"192.168.1.70\"], stdout=subprocess.PIPE)\n",
    "output = test.communicate()[0]\n",
    "output"
   ]
  },
  {
   "cell_type": "code",
   "execution_count": 1,
   "metadata": {
    "ExecuteTime": {
     "end_time": "2019-07-19T22:02:35.129979Z",
     "start_time": "2019-07-19T22:01:25.615512Z"
    }
   },
   "outputs": [
    {
     "data": {
      "text/plain": [
       "array([[ 0.6577134 , -0.55020636,  0.5485836 , ...,  0.4870944 ,\n",
       "         0.00516369,  0.18934992],\n",
       "       [ 0.6918779 , -0.04190549,  0.6225726 , ...,  0.58051217,\n",
       "        -0.08256234,  0.35410908],\n",
       "       [ 0.6962059 , -0.23952383,  0.5332707 , ...,  0.4603444 ,\n",
       "        -0.1685313 ,  0.45977458]], dtype=float32)"
      ]
     },
     "execution_count": 1,
     "metadata": {},
     "output_type": "execute_result"
    }
   ],
   "source": [
    "from bert_serving.client import BertClient\n",
    "bc = BertClient()\n",
    "bc.encode(['First do it', 'then do it right', 'then do it better'])"
   ]
  },
  {
   "cell_type": "code",
   "execution_count": null,
   "metadata": {},
   "outputs": [],
   "source": []
  }
 ],
 "metadata": {
  "kernelspec": {
   "display_name": "Python 3",
   "language": "python",
   "name": "python3"
  },
  "language_info": {
   "codemirror_mode": {
    "name": "ipython",
    "version": 3
   },
   "file_extension": ".py",
   "mimetype": "text/x-python",
   "name": "python",
   "nbconvert_exporter": "python",
   "pygments_lexer": "ipython3",
   "version": "3.7.2"
  },
  "toc": {
   "base_numbering": 1,
   "nav_menu": {},
   "number_sections": true,
   "sideBar": true,
   "skip_h1_title": false,
   "title_cell": "Table of Contents",
   "title_sidebar": "Contents",
   "toc_cell": false,
   "toc_position": {},
   "toc_section_display": true,
   "toc_window_display": false
  },
  "varInspector": {
   "cols": {
    "lenName": 16,
    "lenType": 16,
    "lenVar": 40
   },
   "kernels_config": {
    "python": {
     "delete_cmd_postfix": "",
     "delete_cmd_prefix": "del ",
     "library": "var_list.py",
     "varRefreshCmd": "print(var_dic_list())"
    },
    "r": {
     "delete_cmd_postfix": ") ",
     "delete_cmd_prefix": "rm(",
     "library": "var_list.r",
     "varRefreshCmd": "cat(var_dic_list()) "
    }
   },
   "types_to_exclude": [
    "module",
    "function",
    "builtin_function_or_method",
    "instance",
    "_Feature"
   ],
   "window_display": false
  }
 },
 "nbformat": 4,
 "nbformat_minor": 2
}
